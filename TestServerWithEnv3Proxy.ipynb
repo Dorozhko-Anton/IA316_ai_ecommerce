{
 "cells": [
  {
   "cell_type": "code",
   "execution_count": 1,
   "metadata": {
    "collapsed": true
   },
   "outputs": [],
   "source": [
    "import time\n",
    "from collections import defaultdict\n",
    "from utils import plot_model_trajectories\n",
    "from tqdm import tqdm_notebook\n",
    "import config\n",
    "\n",
    "%matplotlib inline"
   ]
  },
  {
   "cell_type": "code",
   "execution_count": 4,
   "metadata": {
    "collapsed": true
   },
   "outputs": [],
   "source": [
    "import requests\n",
    "import matplotlib.pylab as plt\n",
    "import numpy as np\n",
    "\n",
    "class ENV_Proxy:\n",
    "    def __init__(self, url, key):\n",
    "        self.url = url\n",
    "        self.key = key\n",
    "\n",
    "    def reset(self):\n",
    "        r = requests.get(url=self.url+'/reset',\n",
    "                     params = {\n",
    "                         'user_id':self.key,\n",
    "                     })\n",
    "        try:\n",
    "            return r.json()\n",
    "        except:\n",
    "            print(r.content)\n",
    "            raise\n",
    "\n",
    "    def predict(self, predicted_score):\n",
    "        r = requests.get(url=self.url + '/predict',\n",
    "                     params = {\n",
    "                         'user_id':self.key,\n",
    "                         'recommended_item':predicted_score\n",
    "                     })\n",
    "        try:\n",
    "            return r.json()\n",
    "        except:\n",
    "            print(r.content)\n",
    "            raise"
   ]
  },
  {
   "cell_type": "code",
   "execution_count": null,
   "metadata": {
    "collapsed": true
   },
   "outputs": [],
   "source": []
  },
  {
   "cell_type": "code",
   "execution_count": 61,
   "metadata": {
    "collapsed": true
   },
   "outputs": [],
   "source": [
    "import time\n",
    "\n",
    "class ModelWrapper():\n",
    "    def __init__(self):\n",
    "        self.url = 'http://0.0.0.0:5002'\n",
    "        pass\n",
    "    \n",
    "    def train(self, history):\n",
    "        \n",
    "        start = time.time()\n",
    "        \n",
    "        r = requests.post(url=self.url+'/train',\n",
    "                         json = {\n",
    "                            'nb_users' : history['nb_users'],\n",
    "                            'nb_items' : history['nb_items'],\n",
    "                            'user_history' : history['state_history'],\n",
    "                            'item_history' : history['action_history'],\n",
    "                            'rating_history' : history['rewards_history']\n",
    "                         })\n",
    "        \n",
    "        end = time.time()\n",
    "        time_spent = end-start\n",
    "        assert time_spent < 120, 'Train took more than 1 minute : %d s' % time_spent\n",
    "    \n",
    "    def predict(self, input_data):\n",
    "        start = time.time()\n",
    "        \n",
    "        r = requests.post(url=self.url+'/predict',\n",
    "                         json = {\n",
    "                            'user' : input_data['state'],\n",
    "                            'item' : None,\n",
    "                            'rating' : input_data['reward'],\n",
    "                         })\n",
    "        \n",
    "        end = time.time()\n",
    "        time_spent = end-start\n",
    "        assert time_spent < 0.1, 'Predict took more than 100ms : %d ms' % time_spent * 1000  \n",
    "        \n",
    "        return r.json()['rating']\n",
    "    \n",
    "    def store_reward(self, reward):\n",
    "        pass"
   ]
  },
  {
   "cell_type": "code",
   "execution_count": 62,
   "metadata": {
    "collapsed": true
   },
   "outputs": [],
   "source": [
    "model = ModelWrapper()"
   ]
  },
  {
   "cell_type": "code",
   "execution_count": 63,
   "metadata": {},
   "outputs": [],
   "source": [
    "ENV_URL = config.ENV3_URL\n",
    "KEY = config.KEY\n",
    "\n",
    "env = ENV_Proxy(key=KEY, url=ENV_URL)"
   ]
  },
  {
   "cell_type": "code",
   "execution_count": 65,
   "metadata": {},
   "outputs": [
    {
     "data": {
      "application/vnd.jupyter.widget-view+json": {
       "model_id": "e6b62a2677d44a34ac6323546c9ff677",
       "version_major": 2,
       "version_minor": 0
      },
      "text/plain": [
       "HBox(children=(IntProgress(value=0, max=3), HTML(value='')))"
      ]
     },
     "metadata": {},
     "output_type": "display_data"
    },
    {
     "data": {
      "application/vnd.jupyter.widget-view+json": {
       "model_id": "",
       "version_major": 2,
       "version_minor": 0
      },
      "text/plain": [
       "HBox(children=(IntProgress(value=0, description='run 0'), HTML(value='')))"
      ]
     },
     "metadata": {},
     "output_type": "display_data"
    },
    {
     "data": {
      "application/vnd.jupyter.widget-view+json": {
       "model_id": "",
       "version_major": 2,
       "version_minor": 0
      },
      "text/plain": [
       "HBox(children=(IntProgress(value=0, description='run 1'), HTML(value='')))"
      ]
     },
     "metadata": {},
     "output_type": "display_data"
    },
    {
     "data": {
      "application/vnd.jupyter.widget-view+json": {
       "model_id": "",
       "version_major": 2,
       "version_minor": 0
      },
      "text/plain": [
       "HBox(children=(IntProgress(value=0, description='run 2'), HTML(value='')))"
      ]
     },
     "metadata": {},
     "output_type": "display_data"
    },
    {
     "name": "stdout",
     "output_type": "stream",
     "text": [
      "\n"
     ]
    }
   ],
   "source": [
    "n_runs = 3\n",
    "n_steps = 100\n",
    "\n",
    "results = defaultdict(list)\n",
    "model_name_entry = 'server_' +  time.strftime('%H:%M')\n",
    "\n",
    "for n in tqdm_notebook(range(n_runs), leave=True, position=0):\n",
    "    # init model \n",
    "    history = env.reset()\n",
    "    \n",
    "    model.train(history)\n",
    "    input_data = {\n",
    "        'state' : history['next_state'],\n",
    "        'reward' : None\n",
    "    }\n",
    "\n",
    "    rewards = []\n",
    "    for _ in tqdm_notebook(range(n_steps), desc='run %d' % n, leave=False, position=1):\n",
    "        time.sleep(0.05)\n",
    "\n",
    "        prediction = model.predict(input_data)\n",
    "        res = env.predict(int(prediction)) # get res for prediction\n",
    "\n",
    "        input_data = res\n",
    "        \n",
    "        reward = res['reward']\n",
    "        rewards.append(reward)\n",
    "\n",
    "        model.store_reward(reward)\n",
    "\n",
    "\n",
    "    results[model_name_entry].append(rewards)"
   ]
  },
  {
   "cell_type": "code",
   "execution_count": 67,
   "metadata": {},
   "outputs": [],
   "source": [
    "from utils import plot_model_trajectories"
   ]
  },
  {
   "cell_type": "code",
   "execution_count": 68,
   "metadata": {},
   "outputs": [
    {
     "data": {
      "text/html": [
       "<div>\n",
       "<style scoped>\n",
       "    .dataframe tbody tr th:only-of-type {\n",
       "        vertical-align: middle;\n",
       "    }\n",
       "\n",
       "    .dataframe tbody tr th {\n",
       "        vertical-align: top;\n",
       "    }\n",
       "\n",
       "    .dataframe thead th {\n",
       "        text-align: right;\n",
       "    }\n",
       "</style>\n",
       "<table border=\"1\" class=\"dataframe\">\n",
       "  <thead>\n",
       "    <tr style=\"text-align: right;\">\n",
       "      <th></th>\n",
       "      <th>Model</th>\n",
       "      <th>Score</th>\n",
       "      <th>Conversion Rate</th>\n",
       "    </tr>\n",
       "  </thead>\n",
       "  <tbody>\n",
       "    <tr>\n",
       "      <th>0</th>\n",
       "      <td>server_12:16</td>\n",
       "      <td>17701</td>\n",
       "      <td>0.32</td>\n",
       "    </tr>\n",
       "  </tbody>\n",
       "</table>\n",
       "</div>"
      ],
      "text/plain": [
       "          Model  Score  Conversion Rate\n",
       "0  server_12:16  17701             0.32"
      ]
     },
     "execution_count": 68,
     "metadata": {},
     "output_type": "execute_result"
    },
    {
     "data": {
      "image/png": "[encoded data removed]",
      "text/plain": [
       "<Figure size 864x720 with 1 Axes>"
      ]
     },
     "metadata": {},
     "output_type": "display_data"
    }
   ],
   "source": [
    "plot_model_trajectories(results)"
   ]
  }
 ],
 "metadata": {
  "kernelspec": {
   "display_name": "Python 3",
   "language": "python",
   "name": "python3"
  },
  "language_info": {
   "codemirror_mode": {
    "name": "ipython",
    "version": 3
   },
   "file_extension": ".py",
   "mimetype": "text/x-python",
   "name": "python",
   "nbconvert_exporter": "python",
   "pygments_lexer": "ipython3",
   "version": "3.6.3"
  }
 },
 "nbformat": 4,
 "nbformat_minor": 2
}
